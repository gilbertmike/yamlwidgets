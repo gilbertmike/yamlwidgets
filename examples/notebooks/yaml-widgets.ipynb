{
 "cells": [
  {
   "cell_type": "markdown",
   "id": "affiliated-rabbit",
   "metadata": {},
   "source": [
    "# YAML widgets example\n",
    "\n",
    "Example of reading a YAML file and allowing it to be updated using the YamlWidgets class"
   ]
  },
  {
   "cell_type": "code",
   "execution_count": null,
   "id": "lovely-genealogy",
   "metadata": {},
   "outputs": [],
   "source": [
    "import sys\n",
    "import os\n",
    "from pathlib import Path\n",
    "\n",
    "from yamlwidgets import *"
   ]
  },
  {
   "cell_type": "markdown",
   "id": "vocational-awareness",
   "metadata": {},
   "source": [
    "## Define input/output YAML files"
   ]
  },
  {
   "cell_type": "code",
   "execution_count": null,
   "id": "continuous-recommendation",
   "metadata": {},
   "outputs": [],
   "source": [
    "data_dir = Path(\"../data\")\n",
    "\n",
    "test_in = data_dir / \"test-in.yaml\"\n",
    "test_out = data_dir / \"test-out.yaml\"\n"
   ]
  },
  {
   "cell_type": "markdown",
   "id": "correct-tiger",
   "metadata": {},
   "source": [
    "## Run this cell to enable debugging"
   ]
  },
  {
   "cell_type": "code",
   "execution_count": null,
   "id": "instant-trace",
   "metadata": {},
   "outputs": [],
   "source": [
    "%load_ext autoreload\n",
    "%autoreload 2\n",
    "\n",
    "import logging\n",
    "\n",
    "logger = logging.getLogger('yaml_widgets')\n",
    "logger.setLevel(logging.DEBUG)\n",
    "logging.debug(\"test\")"
   ]
  },
  {
   "cell_type": "markdown",
   "id": "fatty-exhaust",
   "metadata": {},
   "source": [
    "## Print the input file"
   ]
  },
  {
   "cell_type": "code",
   "execution_count": null,
   "id": "understood-patent",
   "metadata": {},
   "outputs": [],
   "source": [
    "with open(test_in, \"r\") as f:\n",
    "    print(f.read())"
   ]
  },
  {
   "cell_type": "markdown",
   "id": "dental-friendly",
   "metadata": {},
   "source": [
    "## Create and display the widgets\n",
    "\n",
    "Note: parameter to YamlWidgets is any legal value to `ruamel.yaml.load()`"
   ]
  },
  {
   "cell_type": "code",
   "execution_count": null,
   "id": "extensive-socket",
   "metadata": {
    "scrolled": false
   },
   "outputs": [],
   "source": [
    "#\n",
    "# Create and display widgets\n",
    "#\n",
    "yw = YamlWidgets(test_in)\n",
    "\n",
    "yw.display()"
   ]
  },
  {
   "cell_type": "markdown",
   "id": "manual-underwear",
   "metadata": {},
   "source": [
    "## Print the resulting YAML with updated values"
   ]
  },
  {
   "cell_type": "code",
   "execution_count": null,
   "id": "changing-necklace",
   "metadata": {},
   "outputs": [],
   "source": [
    "yw.dump(sys.stdout)"
   ]
  },
  {
   "cell_type": "markdown",
   "id": "miniature-supplement",
   "metadata": {},
   "source": [
    "## Dump YAML with updated values back to a file"
   ]
  },
  {
   "cell_type": "code",
   "execution_count": null,
   "id": "appropriate-globe",
   "metadata": {},
   "outputs": [],
   "source": [
    "yw.dump(test_out)\n",
    "\n",
    "with open(test_out, \"r\") as f:\n",
    "    print(f.read())\n"
   ]
  },
  {
   "cell_type": "markdown",
   "id": "divided-isolation",
   "metadata": {},
   "source": [
    "## Dump YAML with the updated values into a string"
   ]
  },
  {
   "cell_type": "code",
   "execution_count": null,
   "id": "close-jefferson",
   "metadata": {},
   "outputs": [],
   "source": [
    "yaml_string = yw.dump()\n",
    "print(yaml_string)"
   ]
  },
  {
   "cell_type": "markdown",
   "id": "brutal-camel",
   "metadata": {},
   "source": [
    "## Delete the newly created YAML file"
   ]
  },
  {
   "cell_type": "code",
   "execution_count": null,
   "id": "threatened-sessions",
   "metadata": {},
   "outputs": [],
   "source": [
    "os.remove(test_out)"
   ]
  },
  {
   "cell_type": "code",
   "execution_count": null,
   "id": "completed-diary",
   "metadata": {},
   "outputs": [],
   "source": []
  }
 ],
 "metadata": {
  "kernelspec": {
   "display_name": "Python 3",
   "language": "python",
   "name": "python3"
  },
  "language_info": {
   "codemirror_mode": {
    "name": "ipython",
    "version": 3
   },
   "file_extension": ".py",
   "mimetype": "text/x-python",
   "name": "python",
   "nbconvert_exporter": "python",
   "pygments_lexer": "ipython3",
   "version": "3.8.8"
  }
 },
 "nbformat": 4,
 "nbformat_minor": 5
}
