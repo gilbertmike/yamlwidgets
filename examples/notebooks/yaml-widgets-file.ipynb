{
 "cells": [
  {
   "cell_type": "markdown",
   "id": "affiliated-rabbit",
   "metadata": {},
   "source": [
    "# YAML widgets example\n",
    "\n",
    "Example of reading a YAML file and allowing it to be updated using the YamlWidgets class"
   ]
  },
  {
   "cell_type": "code",
   "execution_count": null,
   "id": "lovely-genealogy",
   "metadata": {},
   "outputs": [],
   "source": [
    "from yamlwidgets import *"
   ]
  },
  {
   "cell_type": "markdown",
   "id": "correct-tiger",
   "metadata": {},
   "source": [
    "## Run this cell to enable debugging"
   ]
  },
  {
   "cell_type": "code",
   "execution_count": null,
   "id": "instant-trace",
   "metadata": {},
   "outputs": [],
   "source": [
    "%load_ext autoreload\n",
    "%autoreload 2\n",
    "\n",
    "import logging\n",
    "\n",
    "logger = logging.getLogger('yaml_widgets')\n",
    "logger.setLevel(logging.DEBUG)\n"
   ]
  },
  {
   "cell_type": "markdown",
   "id": "fatty-exhaust",
   "metadata": {},
   "source": [
    "## Print the input file"
   ]
  },
  {
   "cell_type": "code",
   "execution_count": null,
   "id": "three-meaning",
   "metadata": {},
   "outputs": [],
   "source": [
    "%%bash\n",
    "\n",
    "cat ../data/test-in.yaml"
   ]
  },
  {
   "cell_type": "markdown",
   "id": "dental-friendly",
   "metadata": {},
   "source": [
    "## Create and display the widgets"
   ]
  },
  {
   "cell_type": "code",
   "execution_count": null,
   "id": "extensive-socket",
   "metadata": {},
   "outputs": [],
   "source": [
    "#\n",
    "# Create and display widgets\n",
    "#\n",
    "yw = YamlWidgets.fromYAMLfile(\"../data/test-in.yaml\")\n",
    "\n",
    "yw.displayWidgets()"
   ]
  },
  {
   "cell_type": "markdown",
   "id": "miniature-supplement",
   "metadata": {},
   "source": [
    "## Dump the updated widget values back to a YAML file"
   ]
  },
  {
   "cell_type": "code",
   "execution_count": null,
   "id": "varied-pearl",
   "metadata": {},
   "outputs": [],
   "source": [
    "yw.dumpYAMLfile(\"../data/test-out.yaml\")"
   ]
  },
  {
   "cell_type": "markdown",
   "id": "manual-underwear",
   "metadata": {},
   "source": [
    "## Print the resulting YAML file"
   ]
  },
  {
   "cell_type": "code",
   "execution_count": null,
   "id": "appropriate-globe",
   "metadata": {},
   "outputs": [],
   "source": [
    "%%bash\n",
    "\n",
    "cat ../data/test-out.yaml"
   ]
  },
  {
   "cell_type": "markdown",
   "id": "brutal-camel",
   "metadata": {},
   "source": [
    "## Delete the newly created YAML file"
   ]
  },
  {
   "cell_type": "code",
   "execution_count": null,
   "id": "threatened-sessions",
   "metadata": {},
   "outputs": [],
   "source": [
    "%%bash\n",
    "\n",
    "rm ../data/test-out.yaml"
   ]
  },
  {
   "cell_type": "code",
   "execution_count": null,
   "id": "impossible-orange",
   "metadata": {},
   "outputs": [],
   "source": []
  }
 ],
 "metadata": {
  "kernelspec": {
   "display_name": "Python 3",
   "language": "python",
   "name": "python3"
  },
  "language_info": {
   "codemirror_mode": {
    "name": "ipython",
    "version": 3
   },
   "file_extension": ".py",
   "mimetype": "text/x-python",
   "name": "python",
   "nbconvert_exporter": "python",
   "pygments_lexer": "ipython3",
   "version": "3.8.8"
  }
 },
 "nbformat": 4,
 "nbformat_minor": 5
}
