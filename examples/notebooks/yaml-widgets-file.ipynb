{
 "cells": [
  {
   "cell_type": "code",
   "execution_count": null,
   "id": "lovely-genealogy",
   "metadata": {},
   "outputs": [],
   "source": [
    "from yamlwidgets import *\n",
    "\n",
    "%load_ext autoreload\n",
    "%autoreload 2"
   ]
  },
  {
   "cell_type": "code",
   "execution_count": null,
   "id": "instant-trace",
   "metadata": {},
   "outputs": [],
   "source": [
    "import logging\n",
    "\n",
    "logger = logging.getLogger('yaml_widgets')\n",
    "logger.setLevel(logging.DEBUG)\n"
   ]
  },
  {
   "cell_type": "code",
   "execution_count": null,
   "id": "three-meaning",
   "metadata": {},
   "outputs": [],
   "source": [
    "%%bash\n",
    "\n",
    "cat ../data/test-in.yaml"
   ]
  },
  {
   "cell_type": "code",
   "execution_count": null,
   "id": "extensive-socket",
   "metadata": {},
   "outputs": [],
   "source": [
    "with open(\"../data/test-in.yaml\", \"r\") as f:\n",
    "    yaml_in = f.read()\n",
    "\n",
    "            \n",
    "yw = YamlWidgets()\n",
    "\n",
    "yw.setupWidgets(yaml_in)\n",
    "before = yw.dumpWidgets()\n",
    "\n",
    "yw.displayWidgets()"
   ]
  },
  {
   "cell_type": "code",
   "execution_count": null,
   "id": "varied-pearl",
   "metadata": {},
   "outputs": [],
   "source": [
    "with open(\"../data/test-out.yaml\", \"w\") as f:\n",
    "    f.write(yw.dumpWidgets())"
   ]
  },
  {
   "cell_type": "code",
   "execution_count": null,
   "id": "appropriate-globe",
   "metadata": {},
   "outputs": [],
   "source": [
    "%%bash\n",
    "\n",
    "cat ../data/test-out.yaml"
   ]
  },
  {
   "cell_type": "code",
   "execution_count": null,
   "id": "threatened-sessions",
   "metadata": {},
   "outputs": [],
   "source": []
  }
 ],
 "metadata": {
  "kernelspec": {
   "display_name": "Python 3",
   "language": "python",
   "name": "python3"
  },
  "language_info": {
   "codemirror_mode": {
    "name": "ipython",
    "version": 3
   },
   "file_extension": ".py",
   "mimetype": "text/x-python",
   "name": "python",
   "nbconvert_exporter": "python",
   "pygments_lexer": "ipython3",
   "version": "3.8.8"
  }
 },
 "nbformat": 4,
 "nbformat_minor": 5
}
