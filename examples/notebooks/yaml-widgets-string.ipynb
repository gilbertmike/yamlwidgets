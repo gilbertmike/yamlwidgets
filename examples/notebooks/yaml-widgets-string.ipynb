{
 "cells": [
  {
   "cell_type": "code",
   "execution_count": null,
   "id": "lovely-genealogy",
   "metadata": {},
   "outputs": [],
   "source": [
    "from yamlwidgets import *\n",
    "\n",
    "%load_ext autoreload\n",
    "%autoreload 2"
   ]
  },
  {
   "cell_type": "code",
   "execution_count": null,
   "id": "instant-trace",
   "metadata": {},
   "outputs": [],
   "source": [
    "import logging\n",
    "\n",
    "logger = logging.getLogger('yaml_widgets')\n",
    "logger.setLevel(logging.DEBUG)\n"
   ]
  },
  {
   "cell_type": "code",
   "execution_count": null,
   "id": "apparent-richards",
   "metadata": {},
   "outputs": [],
   "source": [
    "yaml_in = \"\"\"\n",
    "a: 2\n",
    "b: 3\n",
    "b-widget:\n",
    "    type: IntSlider\n",
    "    args: {min: 1, max: 20, step: 1}\n",
    "c: 3\n",
    "c-widget:\n",
    "    type: IntSlider\n",
    "    args: {min: 1, max: 10, step: 1, value: 4}\n",
    "d: 20\n",
    "d-widget:\n",
    "    type: IntSlider\n",
    "    args: {description: \"The real D\", min: 0, max: 40, step: 5}\n",
    "e: 100\n",
    "m:\n",
    "    m1: 1\n",
    "    m2: 40\n",
    "    m2-widget:\n",
    "        type: IntSlider\n",
    "        args: {min: 10, max: 60, step: 10}\n",
    "    m3:\n",
    "        p1: 4\n",
    "        p2: 8\n",
    "        p2-widget:\n",
    "            type: IntSlider\n",
    "            args: {min: 1, max: 10, step: 1}\n",
    "        p3: 2\n",
    "        p3-widget:\n",
    "            type: IntSlider\n",
    "            args: {min: 1, max: 10, step: 1, value: 5}\n",
    "        p4: 3\n",
    "        p4-widget:\n",
    "            type: IntSlider\n",
    "            args: {description: \"just p4\", min: 1, max: 10, step: 1, value: 8}\n",
    "        \n",
    "\"\"\"\n",
    "\n",
    "print(\"Before\")\n",
    "print(yaml_in)"
   ]
  },
  {
   "cell_type": "code",
   "execution_count": null,
   "id": "extensive-socket",
   "metadata": {},
   "outputs": [],
   "source": [
    "            \n",
    "yw = YamlWidgets()\n",
    "\n",
    "yw.setupWidgets(yaml_in)\n",
    "before = yw.dumpWidgets()\n",
    "\n",
    "yw.displayWidgets()"
   ]
  },
  {
   "cell_type": "code",
   "execution_count": null,
   "id": "varied-pearl",
   "metadata": {},
   "outputs": [],
   "source": [
    "print(\"After\")\n",
    "print(yw.dumpWidgets())\n"
   ]
  },
  {
   "cell_type": "code",
   "execution_count": null,
   "id": "appropriate-globe",
   "metadata": {},
   "outputs": [],
   "source": []
  },
  {
   "cell_type": "code",
   "execution_count": null,
   "id": "threatened-sessions",
   "metadata": {},
   "outputs": [],
   "source": []
  }
 ],
 "metadata": {
  "kernelspec": {
   "display_name": "Python 3",
   "language": "python",
   "name": "python3"
  },
  "language_info": {
   "codemirror_mode": {
    "name": "ipython",
    "version": 3
   },
   "file_extension": ".py",
   "mimetype": "text/x-python",
   "name": "python",
   "nbconvert_exporter": "python",
   "pygments_lexer": "ipython3",
   "version": "3.8.8"
  }
 },
 "nbformat": 4,
 "nbformat_minor": 5
}
